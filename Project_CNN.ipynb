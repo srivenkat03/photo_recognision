{
  "cells": [
    {
      "cell_type": "markdown",
      "metadata": {
        "id": "T_ABZvQqVJCx"
      },
      "source": [
        "# ***IMAGE RECOGNITION USING CNN***"
      ]
    },
    {
      "cell_type": "markdown",
      "metadata": {
        "id": "SVn7dpQiVlz1"
      },
      "source": [
        "This project is basically implemented for image recognition by using cnn. CNN is nothing but the Convolution Neural Networks.Convolutional Neural Networks (CNN or ConvNet) is a subtype of Neural Networks that is mainly used for applications in image and speech recognition.In this project we will look into image recognition using CNN in CIFAR-10 Dataset. This CIFAR-10 dataset is imported from the datasets of keras.\n",
        "\n",
        "This dataset includes a matching label so we know what kind of image of it is.In this dataset the image consists of 3232 pxs"
      ]
    },
    {
      "cell_type": "code",
      "execution_count": null,
      "metadata": {
        "id": "dDjig4-AU2EH"
      },
      "outputs": [],
      "source": [
        "import keras\n",
        "from keras.datasets import cifar10\n",
        "from keras.models import Sequential\n",
        "from keras.layers import Dense, Dropout, Flatten,Conv2D,MaxPooling2D\n",
        "from pathlib import Path\n",
        "from keras.utils.np_utils import to_categorical"
      ]
    },
    {
      "cell_type": "markdown",
      "metadata": {
        "id": "2d_0ICnmZt5J"
      },
      "source": [
        "after importing the libraries loading of the dataset will be done and training and test\n",
        "x_tr=x train\n",
        "\n",
        "x_te=x test\n",
        "\n",
        "y_tr=y train\n",
        "\n",
        "y_te=y test\n"
      ]
    },
    {
      "cell_type": "code",
      "execution_count": null,
      "metadata": {
        "colab": {
          "base_uri": "https://localhost:8080/"
        },
        "id": "t6AQ2lu3Zreq",
        "outputId": "10df335d-795e-4342-dc9a-b1b9f3611672"
      },
      "outputs": [
        {
          "output_type": "stream",
          "name": "stdout",
          "text": [
            "Downloading data from https://www.cs.toronto.edu/~kriz/cifar-10-python.tar.gz\n",
            "170498071/170498071 [==============================] - 14s 0us/step\n"
          ]
        }
      ],
      "source": [
        "(x_tr,y_tr),(x_te,y_te)=cifar10.load_data()"
      ]
    },
    {
      "cell_type": "markdown",
      "metadata": {
        "id": "0cNbg9PWapRy"
      },
      "source": [
        "Normalization of dataset\n",
        "\n",
        "The data type is changed into the float datatype of 32 bit and then normalized."
      ]
    },
    {
      "cell_type": "code",
      "execution_count": null,
      "metadata": {
        "id": "NPjbZhb5aob6"
      },
      "outputs": [],
      "source": [
        "x_tr=x_tr.astype('float32')\n",
        "x_te=x_te.astype('float32')\n",
        "x_tr/=255.0\n",
        "x_te/=255.0"
      ]
    },
    {
      "cell_type": "markdown",
      "metadata": {
        "id": "DHxYaQTmb5TG"
      },
      "source": [
        "after normalization convert the class vectors to binary class matrices"
      ]
    },
    {
      "cell_type": "code",
      "execution_count": null,
      "metadata": {
        "id": "CUuS9DSUeEMJ"
      },
      "outputs": [],
      "source": [
        "y_tr=to_categorical(y_tr,10)\n",
        "y_te=to_categorical(y_te,10)"
      ]
    },
    {
      "cell_type": "markdown",
      "metadata": {
        "id": "LZ5fxLT1fePg"
      },
      "source": [
        "Keras Conv2D is a 2D Convolution Layer, this layer creates a convolution kernel that is wind with layers input which helps produce a tensor of outputs.\n",
        "\n",
        "Kernel: In image processing kernel is a convolution matrix or masks which can be used for blurring, sharpening, embossing, edge detection, and more by doing a convolution between a kernel and an image."
      ]
    },
    {
      "cell_type": "code",
      "execution_count": null,
      "metadata": {
        "id": "BvCv5mJyeM9I"
      },
      "outputs": [],
      "source": [
        "model=Sequential()\n",
        "model.add(Conv2D(32,(3,3),padding='same',input_shape=(32,32,3),activation='relu'))\n",
        "model.add(Conv2D(32,(3,3),activation='relu'))\n",
        "model.add(MaxPooling2D(pool_size=(2,2)))\n",
        "model.add(Dropout(0.25))\n",
        "\n",
        "model.add(Conv2D(64,(3,3),padding='same',activation='relu'))\n",
        "model.add(Conv2D(32,(3,3),activation='relu'))\n",
        "model.add(MaxPooling2D(pool_size=(2,2)))\n",
        "model.add(Dropout(0.25))\n",
        "\n",
        "model.add(Flatten())\n",
        "model.add(Dense(512,activation='relu'))\n",
        "model.add(Dropout(0.5))\n",
        "model.add(Dense(10,activation='softmax'))"
      ]
    },
    {
      "cell_type": "markdown",
      "metadata": {
        "id": "Q1Bb11cxqwGH"
      },
      "source": [
        "Compilation of the Model this is done by using (model.compile)."
      ]
    },
    {
      "cell_type": "code",
      "execution_count": null,
      "metadata": {
        "colab": {
          "base_uri": "https://localhost:8080/"
        },
        "id": "i3u4mZj9oOAX",
        "outputId": "7b8693cd-4cd2-451a-da4f-74f77751bb62"
      },
      "outputs": [
        {
          "output_type": "stream",
          "name": "stdout",
          "text": [
            "Model: \"sequential\"\n",
            "_________________________________________________________________\n",
            " Layer (type)                Output Shape              Param #   \n",
            "=================================================================\n",
            " conv2d (Conv2D)             (None, 32, 32, 32)        896       \n",
            "                                                                 \n",
            " conv2d_1 (Conv2D)           (None, 30, 30, 32)        9248      \n",
            "                                                                 \n",
            " max_pooling2d (MaxPooling2D  (None, 15, 15, 32)       0         \n",
            " )                                                               \n",
            "                                                                 \n",
            " dropout (Dropout)           (None, 15, 15, 32)        0         \n",
            "                                                                 \n",
            " conv2d_2 (Conv2D)           (None, 15, 15, 64)        18496     \n",
            "                                                                 \n",
            " conv2d_3 (Conv2D)           (None, 13, 13, 32)        18464     \n",
            "                                                                 \n",
            " max_pooling2d_1 (MaxPooling  (None, 6, 6, 32)         0         \n",
            " 2D)                                                             \n",
            "                                                                 \n",
            " dropout_1 (Dropout)         (None, 6, 6, 32)          0         \n",
            "                                                                 \n",
            " flatten (Flatten)           (None, 1152)              0         \n",
            "                                                                 \n",
            " dense (Dense)               (None, 512)               590336    \n",
            "                                                                 \n",
            " dropout_2 (Dropout)         (None, 512)               0         \n",
            "                                                                 \n",
            " dense_1 (Dense)             (None, 10)                5130      \n",
            "                                                                 \n",
            "=================================================================\n",
            "Total params: 642,570\n",
            "Trainable params: 642,570\n",
            "Non-trainable params: 0\n",
            "_________________________________________________________________\n"
          ]
        }
      ],
      "source": [
        "model.compile(loss='categorical_crossentropy',optimizer='adam',metrics=['accuracy'])\n",
        "\n",
        "model.summary()"
      ]
    },
    {
      "cell_type": "markdown",
      "metadata": {
        "id": "B3xGg68hrgew"
      },
      "source": [
        "Fitting of data for the model.Here the data is fitted according to the size of batch. The training data of x,y are passed. Then validated data is passed by Test of x,y."
      ]
    },
    {
      "cell_type": "code",
      "execution_count": null,
      "metadata": {
        "colab": {
          "base_uri": "https://localhost:8080/"
        },
        "id": "5Y7CmZsHrkip",
        "outputId": "57bfd4ba-67bf-4a92-94ea-bc8a1a8bbdf6"
      },
      "outputs": [
        {
          "output_type": "stream",
          "name": "stdout",
          "text": [
            "Epoch 1/8\n",
            "1563/1563 [==============================] - 243s 154ms/step - loss: 1.5755 - accuracy: 0.4213 - val_loss: 1.3111 - val_accuracy: 0.5367\n",
            "Epoch 2/8\n",
            "1563/1563 [==============================] - 228s 146ms/step - loss: 1.2134 - accuracy: 0.5670 - val_loss: 1.0337 - val_accuracy: 0.6341\n",
            "Epoch 3/8\n",
            "1563/1563 [==============================] - 229s 146ms/step - loss: 1.0799 - accuracy: 0.6170 - val_loss: 0.9407 - val_accuracy: 0.6692\n",
            "Epoch 4/8\n",
            "1563/1563 [==============================] - 230s 147ms/step - loss: 0.9893 - accuracy: 0.6497 - val_loss: 0.8599 - val_accuracy: 0.6978\n",
            "Epoch 5/8\n",
            "1563/1563 [==============================] - 228s 146ms/step - loss: 0.9250 - accuracy: 0.6734 - val_loss: 0.8497 - val_accuracy: 0.7022\n",
            "Epoch 6/8\n",
            "1563/1563 [==============================] - 229s 147ms/step - loss: 0.8787 - accuracy: 0.6909 - val_loss: 0.8400 - val_accuracy: 0.7100\n",
            "Epoch 7/8\n",
            "1563/1563 [==============================] - 228s 146ms/step - loss: 0.8434 - accuracy: 0.7024 - val_loss: 0.7626 - val_accuracy: 0.7379\n",
            "Epoch 8/8\n",
            "1563/1563 [==============================] - 228s 146ms/step - loss: 0.8186 - accuracy: 0.7122 - val_loss: 0.7600 - val_accuracy: 0.7364\n"
          ]
        },
        {
          "output_type": "execute_result",
          "data": {
            "text/plain": [
              "<keras.callbacks.History at 0x7fb2906c2e50>"
            ]
          },
          "metadata": {},
          "execution_count": 7
        }
      ],
      "source": [
        "model.fit(x_tr,y_tr,batch_size=32,epochs=8,validation_data=(x_te,y_te),shuffle=True)"
      ]
    },
    {
      "cell_type": "markdown",
      "metadata": {
        "id": "JanOoIMZ39-Y"
      },
      "source": [
        "Saving the neural network architecture.here the data in transformed into json,then that is written by the model_structure."
      ]
    },
    {
      "cell_type": "code",
      "execution_count": null,
      "metadata": {
        "colab": {
          "base_uri": "https://localhost:8080/"
        },
        "id": "v3csCSvk5FfF",
        "outputId": "fd3aa5a5-2ac6-4a0b-ff0e-d2c8ec893caa"
      },
      "outputs": [
        {
          "output_type": "execute_result",
          "data": {
            "text/plain": [
              "4384"
            ]
          },
          "metadata": {},
          "execution_count": 8
        }
      ],
      "source": [
        "model_structure=model.to_json()\n",
        "f=Path(\"model_structure.json\")\n",
        "f.write_text(model_structure)"
      ]
    },
    {
      "cell_type": "markdown",
      "metadata": {
        "id": "G7v6fa-55s6y"
      },
      "source": [
        "The saved format in json. we will also save the trained neural weights for predictions."
      ]
    },
    {
      "cell_type": "code",
      "execution_count": null,
      "metadata": {
        "id": "_Rf7u_SB3oOv"
      },
      "outputs": [],
      "source": [
        "model.save_weights(\"model_weight.h5\")"
      ]
    },
    {
      "cell_type": "markdown",
      "metadata": {
        "id": "pYXw07H27eqY"
      },
      "source": [
        "Here the main part will come into the picture.The predictions will be made on the images based on the labels on them."
      ]
    },
    {
      "cell_type": "code",
      "execution_count": null,
      "metadata": {
        "id": "U1QnIpVW7ePS"
      },
      "outputs": [],
      "source": [
        "from keras.models import model_from_json\n",
        "from pathlib import Path\n",
        "from keras.preprocessing import image\n",
        "import numpy as np"
      ]
    },
    {
      "cell_type": "markdown",
      "metadata": {
        "id": "FKX3OhTP8CD8"
      },
      "source": [
        "class_labels are defined accordingly the division is made based on the labels of the class.\n",
        "\n",
        "for example, like horse,dog etc..,"
      ]
    },
    {
      "cell_type": "code",
      "execution_count": null,
      "metadata": {
        "id": "x2alWVdU7_9l"
      },
      "outputs": [],
      "source": [
        "class_labels=[\"Planes\",\"Car\",\"Bird\",\"Cat\",\"Deer\",\"Dog\",\"Frog\",\n",
        "              \"Horse\",\"Boat\",\"Truck\"]"
      ]
    },
    {
      "cell_type": "markdown",
      "metadata": {
        "id": "wSKSkkAc8quh"
      },
      "source": [
        "Loading of the json file that contains the model structure which we have loaded after fitting of the model is done.\n",
        "\n",
        "write_text for writing the data into the json file.\n",
        "\n",
        "read_text for reading the data from the json file."
      ]
    },
    {
      "cell_type": "code",
      "execution_count": null,
      "metadata": {
        "id": "inw8gl7O83te"
      },
      "outputs": [],
      "source": [
        "f=Path(\"model_structure.json\")\n",
        "model_Structure=f.read_text()"
      ]
    },
    {
      "cell_type": "markdown",
      "metadata": {
        "id": "ycNlJc0J9a5S"
      },
      "source": [
        "Loading of the image is done for testing. (load_img is used for loading the image) size is used as (32,32) as while creating the model the size given is (32,32)"
      ]
    },
    {
      "cell_type": "code",
      "execution_count": null,
      "metadata": {
        "colab": {
          "base_uri": "https://localhost:8080/",
          "height": 448
        },
        "id": "Jh-ACKIt9RGw",
        "outputId": "2f8a02b9-2202-4d5f-eeb9-20f0ed369a08"
      },
      "outputs": [
        {
          "output_type": "execute_result",
          "data": {
            "text/plain": [
              "<matplotlib.image.AxesImage at 0x7fb28ea41cd0>"
            ]
          },
          "metadata": {},
          "execution_count": 28
        },
        {
          "output_type": "display_data",
          "data": {
            "text/plain": [
              "<Figure size 640x480 with 1 Axes>"
            ],
            "image/png": "[encoded data removed]"
          },
          "metadata": {}
        }
      ],
      "source": [
        "import matplotlib.pyplot as plt\n",
        "from tensorflow.keras.utils import load_img,img_to_array\n",
        "img=load_img(\"/content/bird.jpeg\",target_size=(32,32))\n",
        "plt.imshow(img)"
      ]
    },
    {
      "cell_type": "markdown",
      "metadata": {
        "id": "NIvHvR2z_Slr"
      },
      "source": [
        "After loading an image into a variable we have to convert the image to numpy array.here the image is converted to array and then expand according to dimensions of the array according to the row. (img_to_array is used for conversion)"
      ]
    },
    {
      "cell_type": "code",
      "execution_count": null,
      "metadata": {
        "id": "vxZZnWZp-la0"
      },
      "outputs": [],
      "source": [
        "from tensorflow.keras.utils import img_to_array\n",
        "imgtest=img_to_array(img)\n",
        "list_of_image=np.expand_dims(imgtest,axis=0)"
      ]
    },
    {
      "cell_type": "markdown",
      "metadata": {
        "id": "nxjQhDmdAUsH"
      },
      "source": [
        "After converting into the array.Then predictions are made on the basis of the array."
      ]
    },
    {
      "cell_type": "code",
      "execution_count": null,
      "metadata": {
        "colab": {
          "base_uri": "https://localhost:8080/"
        },
        "id": "FTLHMOExATzV",
        "outputId": "21d391b7-66f0-4e6d-93a3-aaefb680d5ef"
      },
      "outputs": [
        {
          "output_type": "stream",
          "name": "stdout",
          "text": [
            "1/1 [==============================] - 0s 25ms/step\n"
          ]
        }
      ],
      "source": [
        "res=model.predict(list_of_image)"
      ]
    },
    {
      "cell_type": "markdown",
      "metadata": {
        "id": "ujmvtsh0BXr1"
      },
      "source": [
        "only one result is taken into consideration as only one image is taken.if there are group of images then loop will be runned or the data set is classified accordingly.Printing of the array for all the labels will be done."
      ]
    },
    {
      "cell_type": "code",
      "execution_count": null,
      "metadata": {
        "colab": {
          "base_uri": "https://localhost:8080/"
        },
        "id": "t4Y9fcYdBWxx",
        "outputId": "a9caab5c-320c-4327-f2a3-e3e27aef7409"
      },
      "outputs": [
        {
          "output_type": "stream",
          "name": "stdout",
          "text": [
            "[0. 0. 1. 0. 0. 0. 0. 0. 0. 0.]\n"
          ]
        }
      ],
      "source": [
        "sr=res[0]\n",
        "print(sr)"
      ]
    },
    {
      "cell_type": "markdown",
      "metadata": {
        "id": "TBh6ieC2BvEJ"
      },
      "source": [
        "we will get a score which represents for the likelihood of all 10 possible classes.when it gets the highest likelihood score then that label is given to that image. And the image label will be printed as a result."
      ]
    },
    {
      "cell_type": "code",
      "execution_count": null,
      "metadata": {
        "colab": {
          "base_uri": "https://localhost:8080/"
        },
        "id": "-GHvCqObBuyu",
        "outputId": "fc7e1124-13ad-4574-9f2c-bd31f27b6a40"
      },
      "outputs": [
        {
          "output_type": "stream",
          "name": "stdout",
          "text": [
            "Bird 2\n"
          ]
        }
      ],
      "source": [
        "mostlci=int(np.argmax(sr))\n",
        "clh=class_labels[mostlci]\n",
        "print(clh,mostlci)"
      ]
    }
  ],
  "metadata": {
    "colab": {
      "provenance": []
    },
    "kernelspec": {
      "display_name": "Python 3",
      "name": "python3"
    },
    "language_info": {
      "name": "python"
    }
  },
  "nbformat": 4,
  "nbformat_minor": 0
}